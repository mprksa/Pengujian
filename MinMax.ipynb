{
  "nbformat": 4,
  "nbformat_minor": 0,
  "metadata": {
    "colab": {
      "provenance": [],
      "authorship_tag": "ABX9TyOWMM34gz0M7nJ5JrRia8NJ",
      "include_colab_link": true
    },
    "kernelspec": {
      "name": "python3",
      "display_name": "Python 3"
    },
    "language_info": {
      "name": "python"
    }
  },
  "cells": [
    {
      "cell_type": "markdown",
      "metadata": {
        "id": "view-in-github",
        "colab_type": "text"
      },
      "source": [
        "<a href=\"https://colab.research.google.com/github/mprksa/Pengujian/blob/main/MinMax.ipynb\" target=\"_parent\"><img src=\"https://colab.research.google.com/assets/colab-badge.svg\" alt=\"Open In Colab\"/></a>"
      ]
    },
    {
      "cell_type": "code",
      "source": [
        "import pandas as pd\n",
        "\n",
        "# Sample data input, replace with actual data reading mechanism\n",
        "data = {\n",
        "    'H': [96.431577, 101.685174, 101.025534, 74.861515, 74.679493, 48.213756, 21.988095, 26.830879, 24.305819, 179.301895, 175.704228, 151.345930, 141.476287],\n",
        "    'S': [165.813478, 245.723198, 181.981192, 85.719915, 181.007068, 129.041432, 140.599982, 165.684835, 165.774150, 175.020929, 205.665296, 98.603193, 200.801643],\n",
        "    'V': [95.155714, 195.322157, 187.551436, 151.633062, 222.272607, 151.874907, 130.338174, 220.576120, 196.518644, 120.763768, 235.201921, 70.626846, 221.491395],\n",
        "    'label': [0.0, 0.0, 0.0, 1.0, 1.0, 1.0, 2.0, 2.0, 2.0, 3.0, 3.0, 4.0, 4.0]\n",
        "}\n",
        "\n",
        "# Convert the data to a DataFrame\n",
        "df = pd.DataFrame(data)\n",
        "\n",
        "# Calculate statistics for each class\n",
        "stats = df.groupby('label').agg(['min', 'max', 'mean']).reset_index()\n",
        "\n",
        "# Display the results\n",
        "for label in stats['label']:\n",
        "    class_name = [\"Biru\", \"Hijau\", \"Kuning\", \"Merah\", \"Ungu\"][int(label)]\n",
        "    print(f\"Statistik HSV untuk kelas {class_name}:\")\n",
        "    h_stats = stats.loc[stats['label'] == label, 'H'].values[0]\n",
        "    s_stats = stats.loc[stats['label'] == label, 'S'].values[0]\n",
        "    v_stats = stats.loc[stats['label'] == label, 'V'].values[0]\n",
        "\n",
        "    print(f\"H: min {h_stats[0]:.6f}, max {h_stats[1]:.6f}, mean {h_stats[2]:.6f}\")\n",
        "    print(f\"S: min {s_stats[0]:.6f}, max {s_stats[1]:.6f}, mean {s_stats[2]:.6f}\")\n",
        "    print(f\"V: min {v_stats[0]:.6f}, max {v_stats[1]:.6f}, mean {v_stats[2]:.6f}\\n\")\n"
      ],
      "metadata": {
        "colab": {
          "base_uri": "https://localhost:8080/"
        },
        "id": "3E9McaPiIbJS",
        "outputId": "2657fb47-f7f6-4b26-d3d1-7d6a76eed21f"
      },
      "execution_count": 21,
      "outputs": [
        {
          "output_type": "stream",
          "name": "stdout",
          "text": [
            "Statistik HSV untuk kelas Biru:\n",
            "H: min 96.431577, max 101.685174, mean 99.714095\n",
            "S: min 165.813478, max 245.723198, mean 197.839289\n",
            "V: min 95.155714, max 195.322157, mean 159.343102\n",
            "\n",
            "Statistik HSV untuk kelas Hijau:\n",
            "H: min 48.213756, max 74.861515, mean 65.918255\n",
            "S: min 85.719915, max 181.007068, mean 131.922805\n",
            "V: min 151.633062, max 222.272607, mean 175.260192\n",
            "\n",
            "Statistik HSV untuk kelas Kuning:\n",
            "H: min 21.988095, max 26.830879, mean 24.374931\n",
            "S: min 140.599982, max 165.774150, mean 157.352989\n",
            "V: min 130.338174, max 220.576120, mean 182.477646\n",
            "\n",
            "Statistik HSV untuk kelas Merah:\n",
            "H: min 175.704228, max 179.301895, mean 177.503062\n",
            "S: min 175.020929, max 205.665296, mean 190.343113\n",
            "V: min 120.763768, max 235.201921, mean 177.982844\n",
            "\n",
            "Statistik HSV untuk kelas Ungu:\n",
            "H: min 141.476287, max 151.345930, mean 146.411109\n",
            "S: min 98.603193, max 200.801643, mean 149.702418\n",
            "V: min 70.626846, max 221.491395, mean 146.059121\n",
            "\n"
          ]
        }
      ]
    }
  ]
}